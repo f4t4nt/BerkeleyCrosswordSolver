{
 "cells": [
  {
   "cell_type": "code",
   "execution_count": 1,
   "metadata": {},
   "outputs": [],
   "source": [
    "import torch\n",
    "from torch.utils.data import Dataset, random_split\n",
    "from transformers import AutoTokenizer, TrainingArguments, Trainer, AutoModelForCausalLM"
   ]
  },
  {
   "cell_type": "code",
   "execution_count": null,
   "metadata": {},
   "outputs": [],
   "source": [
    "assert torch.cuda.is_available()\n",
    "device = torch.device(\"cuda\")\n",
    "print(\"Using device:\", device)"
   ]
  },
  {
   "cell_type": "code",
   "execution_count": null,
   "metadata": {},
   "outputs": [],
   "source": [
    "import json\n",
    "with open('bruteforce2.json', 'r') as file:\n",
    "    finetune_data = json.load(file)\n",
    "finetune_data=finetune_data[\"data\"]"
   ]
  },
  {
   "cell_type": "code",
   "execution_count": null,
   "metadata": {},
   "outputs": [],
   "source": [
    "from transformers import AutoTokenizer\n",
    "# Your code here\n",
    "tokenizer = AutoTokenizer.from_pretrained(\"gpt2\")\n",
    "\n",
    "tokenizer.pad_token = tokenizer.eos_token # convenient for padding later"
   ]
  },
  {
   "cell_type": "code",
   "execution_count": null,
   "metadata": {},
   "outputs": [],
   "source": [
    "from transformers import AutoModelForCausalLM\n",
    "# Your code here\n",
    "gpt2_model = AutoModelForCausalLM.from_pretrained('gpt2').to(device)"
   ]
  },
  {
   "cell_type": "code",
   "execution_count": null,
   "metadata": {},
   "outputs": [],
   "source": [
    "class CrypticDataset(Dataset):\n",
    "    PROMPT = \"Find the next state to solve the following Cryptic Crossword. DEFINITION {definition} LENGTH {length} CLUE {clue} | STEPS {steps} STATE {state}\\n\\n NEXTSTATE {next_state}\"\n",
    "\n",
    "    def __init__(self, data, tokenizer):\n",
    "        self.data = data\n",
    "        self.tokenizer = tokenizer\n",
    "        tokenizer.padding_side = 'right'\n",
    "\n",
    "        self.input_ids = []\n",
    "        self.attn_masks = []\n",
    "        self.labels = []\n",
    "\n",
    "        training_texts = []\n",
    "        for example in self.data:\n",
    "            steps = example[\"steps\"]\n",
    "            for i in range(len(steps)):\n",
    "                training_text = CrypticDataset.PROMPT.format(definition=example['definition'], length=example[\"length\"],\n",
    "                                                             clue=example['clue'], state=steps[i], next_state=(\"<stop>\" if i == len(example(\"steps\"))-1 else steps[i+1])) + \"<|endoftext|>\" # include the end token so model knows when to stop!\n",
    "                training_texts.append(training_text)\n",
    "        encodings_dict = self.tokenizer(training_texts, padding=True, truncation=True)\n",
    "        for i, (example, training_text) in enumerate(zip(data, training_texts)):\n",
    "            self.input_ids.append(torch.tensor(encodings_dict['input_ids'][i]))\n",
    "            self.attn_masks.append(torch.tensor(encodings_dict['attention_mask'][i]))\n",
    "            # Your code here\n",
    "            prompt_and_input_length = len(tokenizer.encode(\n",
    "                \"Find the next state tosolve the following Cryptic Crossword. DEFINITION {definition} LENGTH {length} CLUE {clue} | STEPS {i} STATE {state}\\n\\n NEXTSTATE \".format(\n",
    "                    definition=example['definition'], length=example[\"length\"], clue=example['clue'], state=steps[i])))\n",
    "            self.labels.append(torch.tensor([-100] * prompt_and_input_length + encodings_dict['input_ids'][i][prompt_and_input_length:]))\n",
    "\n",
    "    def __len__(self):\n",
    "        return len(self.input_ids)\n",
    "\n",
    "    def __getitem__(self, idx):\n",
    "        return {'input_ids': self.input_ids[idx], 'attention_mask': self.attn_masks[idx], 'labels': self.labels[idx]}"
   ]
  },
  {
   "cell_type": "code",
   "execution_count": null,
   "metadata": {},
   "outputs": [],
   "source": [
    "PROMPT = \"Solve the following Cryptic Crossword: DEFINITION {definition} LENGTH {length} CLUE {clue} | STEPS {steps} STATE {state} NEXTSTATE {next_state}\""
   ]
  }
 ],
 "metadata": {
  "kernelspec": {
   "display_name": "ml1",
   "language": "python",
   "name": "python3"
  },
  "language_info": {
   "codemirror_mode": {
    "name": "ipython",
    "version": 3
   },
   "file_extension": ".py",
   "mimetype": "text/x-python",
   "name": "python",
   "nbconvert_exporter": "python",
   "pygments_lexer": "ipython3",
   "version": "3.10.4"
  }
 },
 "nbformat": 4,
 "nbformat_minor": 2
}
